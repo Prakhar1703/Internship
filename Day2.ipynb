{
 "cells": [
  {
   "cell_type": "code",
   "execution_count": 15,
   "metadata": {},
   "outputs": [],
   "source": [
    "import pandas as pd"
   ]
  },
  {
   "cell_type": "code",
   "execution_count": 16,
   "metadata": {},
   "outputs": [
    {
     "name": "stdout",
     "output_type": "stream",
     "text": [
      "     sepal_length  sepal_width  petal_length  petal_width         species\n",
      "0             5.1          3.5           1.4          0.2     Iris-setosa\n",
      "1             4.9          3.0           1.4          0.2     Iris-setosa\n",
      "2             4.7          3.2           1.3          0.2     Iris-setosa\n",
      "3             4.6          3.1           1.5          0.2     Iris-setosa\n",
      "4             5.0          3.6           1.4          0.2     Iris-setosa\n",
      "..            ...          ...           ...          ...             ...\n",
      "145           6.7          3.0           5.2          2.3  Iris-virginica\n",
      "146           6.3          2.5           5.0          1.9  Iris-virginica\n",
      "147           6.5          3.0           5.2          2.0  Iris-virginica\n",
      "148           6.2          3.4           5.4          2.3  Iris-virginica\n",
      "149           5.9          3.0           5.1          1.8  Iris-virginica\n",
      "\n",
      "[150 rows x 5 columns]\n"
     ]
    }
   ],
   "source": [
    "data=pd.read_csv('IRIS.csv')\n",
    "print(data)"
   ]
  },
  {
   "cell_type": "code",
   "execution_count": 18,
   "metadata": {},
   "outputs": [
    {
     "name": "stdout",
     "output_type": "stream",
     "text": [
      "            sepal_length  sepal_width  petal_length  petal_width\n",
      "date_time                                                       \n",
      "1970-01-31         876.5        458.1         563.8        179.8\n"
     ]
    }
   ],
   "source": [
    "data['date_time']=pd.to_datetime(data[\"sepal_length\"])\n",
    "data.set_index('date_time',inplace=True)\n",
    "resampled_data = data.resample('M').sum()\n",
    "print(resampled_data)\n"
   ]
  },
  {
   "cell_type": "code",
   "execution_count": 23,
   "metadata": {},
   "outputs": [
    {
     "name": "stdout",
     "output_type": "stream",
     "text": [
      "[1 2 3 4 5 6]\n",
      "sum: 21\n",
      "MAX: 6\n",
      "MEAN: 3.5\n",
      "MIN: 1\n"
     ]
    }
   ],
   "source": [
    "import numpy as np\n",
    "arr=np.array([1,2,3,4,5,6])\n",
    "print(arr)\n",
    "print(\"sum:\",np.sum(arr))\n",
    "print(\"MAX:\",np.max(arr))\n",
    "print(\"MEAN:\",np.mean(arr))\n",
    "print(\"MIN:\",np.min(arr))"
   ]
  },
  {
   "cell_type": "code",
   "execution_count": 25,
   "metadata": {},
   "outputs": [
    {
     "name": "stdout",
     "output_type": "stream",
     "text": [
      "[[1 2 3]\n",
      " [4 5 6]]\n"
     ]
    }
   ],
   "source": [
    "reshape_arr=arr.reshape(2,3)\n",
    "print(reshape_arr)"
   ]
  },
  {
   "cell_type": "code",
   "execution_count": 30,
   "metadata": {},
   "outputs": [
    {
     "name": "stdout",
     "output_type": "stream",
     "text": [
      "[[0.14241669 0.13927825 0.44474012]\n",
      " [0.56402136 0.48411338 0.64984777]\n",
      " [0.98077723 0.94133365 0.04815433]]\n"
     ]
    }
   ],
   "source": [
    "arr=np.random.random((3,3))\n",
    "print(arr)"
   ]
  },
  {
   "cell_type": "code",
   "execution_count": 34,
   "metadata": {},
   "outputs": [
    {
     "name": "stdout",
     "output_type": "stream",
     "text": [
      "[ 6  8 10 14 16 18]\n"
     ]
    }
   ],
   "source": [
    "arr1=np.array([4,5,6,7,8,9])\n",
    "arr2=np.array([2,3,4,7,8,9])\n",
    "result= arr1+arr2\n",
    "print(result)"
   ]
  },
  {
   "cell_type": "code",
   "execution_count": 42,
   "metadata": {},
   "outputs": [
    {
     "name": "stdout",
     "output_type": "stream",
     "text": [
      "[[1 2 3]\n",
      " [3 4 5]\n",
      " [5 6 7]]\n",
      "[1 2 3 3 4 5 5 6 7]\n"
     ]
    }
   ],
   "source": [
    "#2d array\n",
    "arr=np.array([[1,2,3],[3,4,5],[5,6,7]])\n",
    "print(arr)\n",
    "#to flatten in single dimension\n",
    "one=arr.flatten()\n",
    "print(one)"
   ]
  },
  {
   "cell_type": "code",
   "execution_count": 45,
   "metadata": {},
   "outputs": [
    {
     "name": "stdout",
     "output_type": "stream",
     "text": [
      "[ 9 12 15]\n",
      "[ 6 12 18]\n"
     ]
    }
   ],
   "source": [
    "#to find sum along axis\n",
    "sum_rows=np.sum(arr,axis=0)\n",
    "#sum along columns\n",
    "sum_column=np.sum(arr,axis=1)\n",
    "print(sum_rows)\n",
    "print(sum_column)"
   ]
  },
  {
   "cell_type": "code",
   "execution_count": 48,
   "metadata": {},
   "outputs": [
    {
     "name": "stdout",
     "output_type": "stream",
     "text": [
      "[3 4 5]\n",
      "[3 3 4 5 5 6 7]\n"
     ]
    }
   ],
   "source": [
    "#indexing\n",
    "print(arr[1])\n",
    "#boolean masking\n",
    "mask=arr>2\n",
    "filter=arr[mask]\n",
    "print(filter)"
   ]
  },
  {
   "cell_type": "code",
   "execution_count": 52,
   "metadata": {},
   "outputs": [
    {
     "name": "stdout",
     "output_type": "stream",
     "text": [
      "[1 2 3 4 5 6 7]\n"
     ]
    },
    {
     "ename": "ValueError",
     "evalue": "object too deep for desired array",
     "output_type": "error",
     "traceback": [
      "\u001b[1;31m---------------------------------------------------------------------------\u001b[0m",
      "\u001b[1;31mValueError\u001b[0m                                Traceback (most recent call last)",
      "\u001b[1;32mc:\\Users\\Prakhar Tiwari\\OneDrive\\Desktop\\Internship\\day2.ipynb Cell 11\u001b[0m in \u001b[0;36m<module>\u001b[1;34m\u001b[0m\n\u001b[0;32m      <a href='vscode-notebook-cell:/c%3A/Users/Prakhar%20Tiwari/OneDrive/Desktop/Internship/day2.ipynb#X13sZmlsZQ%3D%3D?line=2'>3</a>\u001b[0m \u001b[39mprint\u001b[39m(uniques)\n\u001b[0;32m      <a href='vscode-notebook-cell:/c%3A/Users/Prakhar%20Tiwari/OneDrive/Desktop/Internship/day2.ipynb#X13sZmlsZQ%3D%3D?line=3'>4</a>\u001b[0m \u001b[39m#count\u001b[39;00m\n\u001b[1;32m----> <a href='vscode-notebook-cell:/c%3A/Users/Prakhar%20Tiwari/OneDrive/Desktop/Internship/day2.ipynb#X13sZmlsZQ%3D%3D?line=4'>5</a>\u001b[0m counts\u001b[39m=\u001b[39mnp\u001b[39m.\u001b[39;49mbincount(arr)\n\u001b[0;32m      <a href='vscode-notebook-cell:/c%3A/Users/Prakhar%20Tiwari/OneDrive/Desktop/Internship/day2.ipynb#X13sZmlsZQ%3D%3D?line=5'>6</a>\u001b[0m \u001b[39mprint\u001b[39m(counts)\n",
      "File \u001b[1;32m<__array_function__ internals>:180\u001b[0m, in \u001b[0;36mbincount\u001b[1;34m(*args, **kwargs)\u001b[0m\n",
      "\u001b[1;31mValueError\u001b[0m: object too deep for desired array"
     ]
    }
   ],
   "source": [
    "#unique element\n",
    "uniques =np.unique(arr)\n",
    "print(uniques)\n",
    "#count\n",
    "counts=np.bincount(one)\n",
    "print(counts)"
   ]
  }
 ],
 "metadata": {
  "kernelspec": {
   "display_name": "Python 3",
   "language": "python",
   "name": "python3"
  },
  "language_info": {
   "codemirror_mode": {
    "name": "ipython",
    "version": 3
   },
   "file_extension": ".py",
   "mimetype": "text/x-python",
   "name": "python",
   "nbconvert_exporter": "python",
   "pygments_lexer": "ipython3",
   "version": "3.10.1"
  },
  "orig_nbformat": 4
 },
 "nbformat": 4,
 "nbformat_minor": 2
}
